{
 "cells": [
  {
   "cell_type": "code",
   "execution_count": 3,
   "id": "88127142",
   "metadata": {},
   "outputs": [],
   "source": [
    "import numpy as np\n",
    "import pandas as pd\n",
    "import matplotlib.pyplot as plt\n",
    "import seaborn as sns"
   ]
  },
  {
   "cell_type": "code",
   "execution_count": 4,
   "id": "b1d44de5",
   "metadata": {},
   "outputs": [
    {
     "name": "stdout",
     "output_type": "stream",
     "text": [
      "Wall time: 0 ns\n"
     ]
    }
   ],
   "source": [
    "%%time\n",
    "import re"
   ]
  },
  {
   "cell_type": "code",
   "execution_count": 1,
   "id": "b24c1037",
   "metadata": {},
   "outputs": [
    {
     "name": "stdout",
     "output_type": "stream",
     "text": [
      "Wall time: 49min 53s\n"
     ]
    }
   ],
   "source": [
    "# %%time\n",
    "# lines = []\n",
    "# for i in range(1,568455):\n",
    "#     with open(r\"C:\\Users\\DELL\\ML\\Assignments\\Amazon Review Text\\txt_reviews\\review_{}.txt\".format(i),\"r\",encoding=\"utf-8\") as f:\n",
    "#         lines.append(f.readlines())\n",
    "        "
   ]
  },
  {
   "cell_type": "code",
   "execution_count": 5,
   "id": "0bc8ac95",
   "metadata": {},
   "outputs": [],
   "source": [
    "df = pd.DataFrame(lines,columns=[\"ProductId\",\"UserId\",\"ProfileName\",\"HelpfulnessNumerator\",\"HelpfulnessDenominator\",\"Score\",\"Time\",\"ReviewSummary\",\"ReviewText\"])"
   ]
  },
  {
   "cell_type": "code",
   "execution_count": 6,
   "id": "30c97680",
   "metadata": {},
   "outputs": [
    {
     "data": {
      "text/html": [
       "<div>\n",
       "<style scoped>\n",
       "    .dataframe tbody tr th:only-of-type {\n",
       "        vertical-align: middle;\n",
       "    }\n",
       "\n",
       "    .dataframe tbody tr th {\n",
       "        vertical-align: top;\n",
       "    }\n",
       "\n",
       "    .dataframe thead th {\n",
       "        text-align: right;\n",
       "    }\n",
       "</style>\n",
       "<table border=\"1\" class=\"dataframe\">\n",
       "  <thead>\n",
       "    <tr style=\"text-align: right;\">\n",
       "      <th></th>\n",
       "      <th>ProductId</th>\n",
       "      <th>UserId</th>\n",
       "      <th>ProfileName</th>\n",
       "      <th>HelpfulnessNumerator</th>\n",
       "      <th>HelpfulnessDenominator</th>\n",
       "      <th>Score</th>\n",
       "      <th>Time</th>\n",
       "      <th>ReviewSummary</th>\n",
       "      <th>ReviewText</th>\n",
       "    </tr>\n",
       "  </thead>\n",
       "  <tbody>\n",
       "    <tr>\n",
       "      <th>0</th>\n",
       "      <td>ProductId: B001E4KFG0\\n</td>\n",
       "      <td>UserId: A3SGXH7AUHU8GW\\n</td>\n",
       "      <td>ProfileName: delmartian\\n</td>\n",
       "      <td>HelpfulnessNumerator: 1\\n</td>\n",
       "      <td>HelpfulnessDenominator: 1\\n</td>\n",
       "      <td>Score: 5\\n</td>\n",
       "      <td>Time: 1303862400\\n</td>\n",
       "      <td>ReviewSummary: Good Quality Dog Food\\n</td>\n",
       "      <td>ReviewText: I have bought several of the Vital...</td>\n",
       "    </tr>\n",
       "    <tr>\n",
       "      <th>1</th>\n",
       "      <td>ProductId: B00813GRG4\\n</td>\n",
       "      <td>UserId: A1D87F6ZCVE5NK\\n</td>\n",
       "      <td>ProfileName: dll pa\\n</td>\n",
       "      <td>HelpfulnessNumerator: 0\\n</td>\n",
       "      <td>HelpfulnessDenominator: 0\\n</td>\n",
       "      <td>Score: 1\\n</td>\n",
       "      <td>Time: 1346976000\\n</td>\n",
       "      <td>ReviewSummary: Not as Advertised\\n</td>\n",
       "      <td>ReviewText: Product arrived labeled as Jumbo S...</td>\n",
       "    </tr>\n",
       "    <tr>\n",
       "      <th>2</th>\n",
       "      <td>ProductId: B000LQOCH0\\n</td>\n",
       "      <td>UserId: ABXLMWJIXXAIN\\n</td>\n",
       "      <td>ProfileName: Natalia Corres \"Natalia Corres\"\\n</td>\n",
       "      <td>HelpfulnessNumerator: 1\\n</td>\n",
       "      <td>HelpfulnessDenominator: 1\\n</td>\n",
       "      <td>Score: 4\\n</td>\n",
       "      <td>Time: 1219017600\\n</td>\n",
       "      <td>ReviewSummary: \"Delight\" says it all\\n</td>\n",
       "      <td>ReviewText: This is a confection that has been...</td>\n",
       "    </tr>\n",
       "    <tr>\n",
       "      <th>3</th>\n",
       "      <td>ProductId: B000UA0QIQ\\n</td>\n",
       "      <td>UserId: A395BORC6FGVXV\\n</td>\n",
       "      <td>ProfileName: Karl\\n</td>\n",
       "      <td>HelpfulnessNumerator: 3\\n</td>\n",
       "      <td>HelpfulnessDenominator: 3\\n</td>\n",
       "      <td>Score: 2\\n</td>\n",
       "      <td>Time: 1307923200\\n</td>\n",
       "      <td>ReviewSummary: Cough Medicine\\n</td>\n",
       "      <td>ReviewText: If you are looking for the secret ...</td>\n",
       "    </tr>\n",
       "    <tr>\n",
       "      <th>4</th>\n",
       "      <td>ProductId: B006K2ZZ7K\\n</td>\n",
       "      <td>UserId: A1UQRSCLF8GW1T\\n</td>\n",
       "      <td>ProfileName: Michael D. Bigham \"M. Wassir\"\\n</td>\n",
       "      <td>HelpfulnessNumerator: 0\\n</td>\n",
       "      <td>HelpfulnessDenominator: 0\\n</td>\n",
       "      <td>Score: 5\\n</td>\n",
       "      <td>Time: 1350777600\\n</td>\n",
       "      <td>ReviewSummary: Great taffy\\n</td>\n",
       "      <td>ReviewText: Great taffy at a great price.  The...</td>\n",
       "    </tr>\n",
       "  </tbody>\n",
       "</table>\n",
       "</div>"
      ],
      "text/plain": [
       "                 ProductId                    UserId  \\\n",
       "0  ProductId: B001E4KFG0\\n  UserId: A3SGXH7AUHU8GW\\n   \n",
       "1  ProductId: B00813GRG4\\n  UserId: A1D87F6ZCVE5NK\\n   \n",
       "2  ProductId: B000LQOCH0\\n   UserId: ABXLMWJIXXAIN\\n   \n",
       "3  ProductId: B000UA0QIQ\\n  UserId: A395BORC6FGVXV\\n   \n",
       "4  ProductId: B006K2ZZ7K\\n  UserId: A1UQRSCLF8GW1T\\n   \n",
       "\n",
       "                                      ProfileName       HelpfulnessNumerator  \\\n",
       "0                       ProfileName: delmartian\\n  HelpfulnessNumerator: 1\\n   \n",
       "1                           ProfileName: dll pa\\n  HelpfulnessNumerator: 0\\n   \n",
       "2  ProfileName: Natalia Corres \"Natalia Corres\"\\n  HelpfulnessNumerator: 1\\n   \n",
       "3                             ProfileName: Karl\\n  HelpfulnessNumerator: 3\\n   \n",
       "4    ProfileName: Michael D. Bigham \"M. Wassir\"\\n  HelpfulnessNumerator: 0\\n   \n",
       "\n",
       "        HelpfulnessDenominator       Score                Time  \\\n",
       "0  HelpfulnessDenominator: 1\\n  Score: 5\\n  Time: 1303862400\\n   \n",
       "1  HelpfulnessDenominator: 0\\n  Score: 1\\n  Time: 1346976000\\n   \n",
       "2  HelpfulnessDenominator: 1\\n  Score: 4\\n  Time: 1219017600\\n   \n",
       "3  HelpfulnessDenominator: 3\\n  Score: 2\\n  Time: 1307923200\\n   \n",
       "4  HelpfulnessDenominator: 0\\n  Score: 5\\n  Time: 1350777600\\n   \n",
       "\n",
       "                            ReviewSummary  \\\n",
       "0  ReviewSummary: Good Quality Dog Food\\n   \n",
       "1      ReviewSummary: Not as Advertised\\n   \n",
       "2  ReviewSummary: \"Delight\" says it all\\n   \n",
       "3         ReviewSummary: Cough Medicine\\n   \n",
       "4            ReviewSummary: Great taffy\\n   \n",
       "\n",
       "                                          ReviewText  \n",
       "0  ReviewText: I have bought several of the Vital...  \n",
       "1  ReviewText: Product arrived labeled as Jumbo S...  \n",
       "2  ReviewText: This is a confection that has been...  \n",
       "3  ReviewText: If you are looking for the secret ...  \n",
       "4  ReviewText: Great taffy at a great price.  The...  "
      ]
     },
     "execution_count": 6,
     "metadata": {},
     "output_type": "execute_result"
    }
   ],
   "source": [
    "df.head()"
   ]
  },
  {
   "cell_type": "code",
   "execution_count": 7,
   "id": "573349bd",
   "metadata": {},
   "outputs": [
    {
     "data": {
      "text/plain": [
       "(568454, 9)"
      ]
     },
     "execution_count": 7,
     "metadata": {},
     "output_type": "execute_result"
    }
   ],
   "source": [
    "df.shape"
   ]
  },
  {
   "cell_type": "code",
   "execution_count": 9,
   "id": "63638e12",
   "metadata": {},
   "outputs": [
    {
     "name": "stdout",
     "output_type": "stream",
     "text": [
      "Requirement already satisfied: tqdm in c:\\users\\dell\\anaconda3\\lib\\site-packages (4.62.3)\n",
      "Requirement already satisfied: colorama in c:\\users\\dell\\anaconda3\\lib\\site-packages (from tqdm) (0.4.4)\n"
     ]
    }
   ],
   "source": [
    "! pip install tqdm"
   ]
  },
  {
   "cell_type": "code",
   "execution_count": 10,
   "id": "32953f23",
   "metadata": {},
   "outputs": [],
   "source": [
    "from tqdm import tqdm, tqdm_notebook"
   ]
  },
  {
   "cell_type": "code",
   "execution_count": 11,
   "id": "85319879",
   "metadata": {},
   "outputs": [],
   "source": [
    "tqdm.pandas()"
   ]
  },
  {
   "cell_type": "code",
   "execution_count": null,
   "id": "644146cf",
   "metadata": {},
   "outputs": [],
   "source": []
  },
  {
   "cell_type": "code",
   "execution_count": 12,
   "id": "619f8f87",
   "metadata": {},
   "outputs": [
    {
     "name": "stderr",
     "output_type": "stream",
     "text": [
      "100%|██████████████████████████████████████████████████████████████████████| 568454/568454 [00:00<00:00, 721357.02it/s]\n"
     ]
    }
   ],
   "source": [
    "df[\"ProductId\"] = df[\"ProductId\"].progress_apply(lambda x : x.split()[1])\n"
   ]
  },
  {
   "cell_type": "code",
   "execution_count": 13,
   "id": "4facbe3f",
   "metadata": {},
   "outputs": [
    {
     "name": "stderr",
     "output_type": "stream",
     "text": [
      "100%|██████████████████████████████████████████████████████████████████████| 568454/568454 [00:00<00:00, 811298.68it/s]\n"
     ]
    }
   ],
   "source": [
    "df[\"UserId\"] = df[\"UserId\"].progress_apply(lambda x : x.split()[1])\n"
   ]
  },
  {
   "cell_type": "code",
   "execution_count": 24,
   "id": "c5ba2580",
   "metadata": {},
   "outputs": [],
   "source": [
    "df[\"ProfileName\"] = df[\"ProfileName\"].replace(to_replace=[\"ProfileName:\",\"!\",'\"',\",\",\"\\n\"],value=\"\",regex = True)"
   ]
  },
  {
   "cell_type": "code",
   "execution_count": 16,
   "id": "baf6c373",
   "metadata": {},
   "outputs": [],
   "source": [
    "df[\"HelpfulnessNumerator\"] = df[\"HelpfulnessNumerator\"].apply(lambda x : x.split()[1])"
   ]
  },
  {
   "cell_type": "code",
   "execution_count": 17,
   "id": "09dbe448",
   "metadata": {},
   "outputs": [],
   "source": [
    "df[\"HelpfulnessDenominator\"] = df[\"HelpfulnessDenominator\"].apply(lambda x : x.split()[1])\n"
   ]
  },
  {
   "cell_type": "code",
   "execution_count": 18,
   "id": "7e53744a",
   "metadata": {},
   "outputs": [],
   "source": [
    "df[\"Time\"] = df[\"Time\"].apply(lambda x : x.split()[1])\n"
   ]
  },
  {
   "cell_type": "code",
   "execution_count": 19,
   "id": "f404feee",
   "metadata": {},
   "outputs": [],
   "source": [
    "df[\"Score\"] = df[\"Score\"].apply(lambda x : x.split()[1])"
   ]
  },
  {
   "cell_type": "code",
   "execution_count": 20,
   "id": "4cf5b81f",
   "metadata": {},
   "outputs": [],
   "source": [
    "df[\"ReviewSummary\"] = df[\"ReviewSummary\"].replace(to_replace=[\"ReviewSummary:\",\"!\",'\"',\",\",\"\\n\"],value=\"\",regex = True)"
   ]
  },
  {
   "cell_type": "code",
   "execution_count": 21,
   "id": "3c9c7d8c",
   "metadata": {},
   "outputs": [],
   "source": [
    "df[\"ReviewText\"] = df[\"ReviewText\"].apply(lambda x : \" \".join(x.split()[1:]))"
   ]
  },
  {
   "cell_type": "code",
   "execution_count": 25,
   "id": "dc13e420",
   "metadata": {},
   "outputs": [],
   "source": [
    "df[\"Id\"] =[i for i in range(len(df))]"
   ]
  },
  {
   "cell_type": "code",
   "execution_count": 26,
   "id": "410ca8c2",
   "metadata": {},
   "outputs": [
    {
     "data": {
      "text/html": [
       "<div>\n",
       "<style scoped>\n",
       "    .dataframe tbody tr th:only-of-type {\n",
       "        vertical-align: middle;\n",
       "    }\n",
       "\n",
       "    .dataframe tbody tr th {\n",
       "        vertical-align: top;\n",
       "    }\n",
       "\n",
       "    .dataframe thead th {\n",
       "        text-align: right;\n",
       "    }\n",
       "</style>\n",
       "<table border=\"1\" class=\"dataframe\">\n",
       "  <thead>\n",
       "    <tr style=\"text-align: right;\">\n",
       "      <th></th>\n",
       "      <th>ProductId</th>\n",
       "      <th>UserId</th>\n",
       "      <th>ProfileName</th>\n",
       "      <th>HelpfulnessNumerator</th>\n",
       "      <th>HelpfulnessDenominator</th>\n",
       "      <th>Score</th>\n",
       "      <th>Time</th>\n",
       "      <th>ReviewSummary</th>\n",
       "      <th>ReviewText</th>\n",
       "      <th>Id</th>\n",
       "    </tr>\n",
       "  </thead>\n",
       "  <tbody>\n",
       "    <tr>\n",
       "      <th>0</th>\n",
       "      <td>B001E4KFG0</td>\n",
       "      <td>A3SGXH7AUHU8GW</td>\n",
       "      <td>delmartian</td>\n",
       "      <td>1</td>\n",
       "      <td>1</td>\n",
       "      <td>5</td>\n",
       "      <td>1303862400</td>\n",
       "      <td>Good Quality Dog Food</td>\n",
       "      <td>I have bought several of the Vitality canned d...</td>\n",
       "      <td>0</td>\n",
       "    </tr>\n",
       "    <tr>\n",
       "      <th>1</th>\n",
       "      <td>B00813GRG4</td>\n",
       "      <td>A1D87F6ZCVE5NK</td>\n",
       "      <td>dll pa</td>\n",
       "      <td>0</td>\n",
       "      <td>0</td>\n",
       "      <td>1</td>\n",
       "      <td>1346976000</td>\n",
       "      <td>Not as Advertised</td>\n",
       "      <td>Product arrived labeled as Jumbo Salted Peanut...</td>\n",
       "      <td>1</td>\n",
       "    </tr>\n",
       "    <tr>\n",
       "      <th>2</th>\n",
       "      <td>B000LQOCH0</td>\n",
       "      <td>ABXLMWJIXXAIN</td>\n",
       "      <td>Natalia Corres Natalia Corres</td>\n",
       "      <td>1</td>\n",
       "      <td>1</td>\n",
       "      <td>4</td>\n",
       "      <td>1219017600</td>\n",
       "      <td>Delight says it all</td>\n",
       "      <td>This is a confection that has been around a fe...</td>\n",
       "      <td>2</td>\n",
       "    </tr>\n",
       "    <tr>\n",
       "      <th>3</th>\n",
       "      <td>B000UA0QIQ</td>\n",
       "      <td>A395BORC6FGVXV</td>\n",
       "      <td>Karl</td>\n",
       "      <td>3</td>\n",
       "      <td>3</td>\n",
       "      <td>2</td>\n",
       "      <td>1307923200</td>\n",
       "      <td>Cough Medicine</td>\n",
       "      <td>If you are looking for the secret ingredient i...</td>\n",
       "      <td>3</td>\n",
       "    </tr>\n",
       "    <tr>\n",
       "      <th>4</th>\n",
       "      <td>B006K2ZZ7K</td>\n",
       "      <td>A1UQRSCLF8GW1T</td>\n",
       "      <td>Michael D. Bigham M. Wassir</td>\n",
       "      <td>0</td>\n",
       "      <td>0</td>\n",
       "      <td>5</td>\n",
       "      <td>1350777600</td>\n",
       "      <td>Great taffy</td>\n",
       "      <td>Great taffy at a great price. There was a wide...</td>\n",
       "      <td>4</td>\n",
       "    </tr>\n",
       "    <tr>\n",
       "      <th>...</th>\n",
       "      <td>...</td>\n",
       "      <td>...</td>\n",
       "      <td>...</td>\n",
       "      <td>...</td>\n",
       "      <td>...</td>\n",
       "      <td>...</td>\n",
       "      <td>...</td>\n",
       "      <td>...</td>\n",
       "      <td>...</td>\n",
       "      <td>...</td>\n",
       "    </tr>\n",
       "    <tr>\n",
       "      <th>568449</th>\n",
       "      <td>B001EO7N10</td>\n",
       "      <td>A28KG5XORO54AY</td>\n",
       "      <td>Lettie D. Carter</td>\n",
       "      <td>0</td>\n",
       "      <td>0</td>\n",
       "      <td>5</td>\n",
       "      <td>1299628800</td>\n",
       "      <td>Will not do without</td>\n",
       "      <td>Great for sesame chicken..this is a good if no...</td>\n",
       "      <td>568449</td>\n",
       "    </tr>\n",
       "    <tr>\n",
       "      <th>568450</th>\n",
       "      <td>B003S1WTCU</td>\n",
       "      <td>A3I8AFVPEE8KI5</td>\n",
       "      <td>R. Sawyer</td>\n",
       "      <td>0</td>\n",
       "      <td>0</td>\n",
       "      <td>2</td>\n",
       "      <td>1331251200</td>\n",
       "      <td>disappointed</td>\n",
       "      <td>I'm disappointed with the flavor. The chocolat...</td>\n",
       "      <td>568450</td>\n",
       "    </tr>\n",
       "    <tr>\n",
       "      <th>568451</th>\n",
       "      <td>B004I613EE</td>\n",
       "      <td>A121AA1GQV751Z</td>\n",
       "      <td>pksd pk_007</td>\n",
       "      <td>2</td>\n",
       "      <td>2</td>\n",
       "      <td>5</td>\n",
       "      <td>1329782400</td>\n",
       "      <td>Perfect for our maltipoo</td>\n",
       "      <td>These stars are small, so you can give 10-15 o...</td>\n",
       "      <td>568451</td>\n",
       "    </tr>\n",
       "    <tr>\n",
       "      <th>568452</th>\n",
       "      <td>B004I613EE</td>\n",
       "      <td>A3IBEVCTXKNOH</td>\n",
       "      <td>Kathy A. Welch katwel</td>\n",
       "      <td>1</td>\n",
       "      <td>1</td>\n",
       "      <td>5</td>\n",
       "      <td>1331596800</td>\n",
       "      <td>Favorite Training and reward treat</td>\n",
       "      <td>These are the BEST treats for training and rew...</td>\n",
       "      <td>568452</td>\n",
       "    </tr>\n",
       "    <tr>\n",
       "      <th>568453</th>\n",
       "      <td>B001LR2CU2</td>\n",
       "      <td>A3LGQPJCZVL9UC</td>\n",
       "      <td>srfell17</td>\n",
       "      <td>0</td>\n",
       "      <td>0</td>\n",
       "      <td>5</td>\n",
       "      <td>1338422400</td>\n",
       "      <td>Great Honey</td>\n",
       "      <td>I am very satisfied ,product is as advertised,...</td>\n",
       "      <td>568453</td>\n",
       "    </tr>\n",
       "  </tbody>\n",
       "</table>\n",
       "<p>568454 rows × 10 columns</p>\n",
       "</div>"
      ],
      "text/plain": [
       "         ProductId          UserId                     ProfileName  \\\n",
       "0       B001E4KFG0  A3SGXH7AUHU8GW                      delmartian   \n",
       "1       B00813GRG4  A1D87F6ZCVE5NK                          dll pa   \n",
       "2       B000LQOCH0   ABXLMWJIXXAIN   Natalia Corres Natalia Corres   \n",
       "3       B000UA0QIQ  A395BORC6FGVXV                            Karl   \n",
       "4       B006K2ZZ7K  A1UQRSCLF8GW1T     Michael D. Bigham M. Wassir   \n",
       "...            ...             ...                             ...   \n",
       "568449  B001EO7N10  A28KG5XORO54AY                Lettie D. Carter   \n",
       "568450  B003S1WTCU  A3I8AFVPEE8KI5                       R. Sawyer   \n",
       "568451  B004I613EE  A121AA1GQV751Z                     pksd pk_007   \n",
       "568452  B004I613EE   A3IBEVCTXKNOH           Kathy A. Welch katwel   \n",
       "568453  B001LR2CU2  A3LGQPJCZVL9UC                        srfell17   \n",
       "\n",
       "       HelpfulnessNumerator HelpfulnessDenominator Score        Time  \\\n",
       "0                         1                      1     5  1303862400   \n",
       "1                         0                      0     1  1346976000   \n",
       "2                         1                      1     4  1219017600   \n",
       "3                         3                      3     2  1307923200   \n",
       "4                         0                      0     5  1350777600   \n",
       "...                     ...                    ...   ...         ...   \n",
       "568449                    0                      0     5  1299628800   \n",
       "568450                    0                      0     2  1331251200   \n",
       "568451                    2                      2     5  1329782400   \n",
       "568452                    1                      1     5  1331596800   \n",
       "568453                    0                      0     5  1338422400   \n",
       "\n",
       "                              ReviewSummary  \\\n",
       "0                     Good Quality Dog Food   \n",
       "1                         Not as Advertised   \n",
       "2                       Delight says it all   \n",
       "3                            Cough Medicine   \n",
       "4                               Great taffy   \n",
       "...                                     ...   \n",
       "568449                  Will not do without   \n",
       "568450                         disappointed   \n",
       "568451             Perfect for our maltipoo   \n",
       "568452   Favorite Training and reward treat   \n",
       "568453                          Great Honey   \n",
       "\n",
       "                                               ReviewText      Id  \n",
       "0       I have bought several of the Vitality canned d...       0  \n",
       "1       Product arrived labeled as Jumbo Salted Peanut...       1  \n",
       "2       This is a confection that has been around a fe...       2  \n",
       "3       If you are looking for the secret ingredient i...       3  \n",
       "4       Great taffy at a great price. There was a wide...       4  \n",
       "...                                                   ...     ...  \n",
       "568449  Great for sesame chicken..this is a good if no...  568449  \n",
       "568450  I'm disappointed with the flavor. The chocolat...  568450  \n",
       "568451  These stars are small, so you can give 10-15 o...  568451  \n",
       "568452  These are the BEST treats for training and rew...  568452  \n",
       "568453  I am very satisfied ,product is as advertised,...  568453  \n",
       "\n",
       "[568454 rows x 10 columns]"
      ]
     },
     "execution_count": 26,
     "metadata": {},
     "output_type": "execute_result"
    }
   ],
   "source": [
    "df"
   ]
  },
  {
   "cell_type": "code",
   "execution_count": 27,
   "id": "51bf6b92",
   "metadata": {},
   "outputs": [],
   "source": [
    "df.to_csv(\"review_data.csv\",index = False)"
   ]
  },
  {
   "cell_type": "code",
   "execution_count": null,
   "id": "57136a61",
   "metadata": {},
   "outputs": [],
   "source": []
  },
  {
   "cell_type": "code",
   "execution_count": 28,
   "id": "17a083dc",
   "metadata": {},
   "outputs": [],
   "source": [
    "s = pd.read_csv(\"review_data.csv\")"
   ]
  },
  {
   "cell_type": "code",
   "execution_count": 29,
   "id": "da40484b",
   "metadata": {},
   "outputs": [
    {
     "data": {
      "text/html": [
       "<div>\n",
       "<style scoped>\n",
       "    .dataframe tbody tr th:only-of-type {\n",
       "        vertical-align: middle;\n",
       "    }\n",
       "\n",
       "    .dataframe tbody tr th {\n",
       "        vertical-align: top;\n",
       "    }\n",
       "\n",
       "    .dataframe thead th {\n",
       "        text-align: right;\n",
       "    }\n",
       "</style>\n",
       "<table border=\"1\" class=\"dataframe\">\n",
       "  <thead>\n",
       "    <tr style=\"text-align: right;\">\n",
       "      <th></th>\n",
       "      <th>ProductId</th>\n",
       "      <th>UserId</th>\n",
       "      <th>ProfileName</th>\n",
       "      <th>HelpfulnessNumerator</th>\n",
       "      <th>HelpfulnessDenominator</th>\n",
       "      <th>Score</th>\n",
       "      <th>Time</th>\n",
       "      <th>ReviewSummary</th>\n",
       "      <th>ReviewText</th>\n",
       "      <th>Id</th>\n",
       "    </tr>\n",
       "  </thead>\n",
       "  <tbody>\n",
       "    <tr>\n",
       "      <th>0</th>\n",
       "      <td>B001E4KFG0</td>\n",
       "      <td>A3SGXH7AUHU8GW</td>\n",
       "      <td>delmartian</td>\n",
       "      <td>1</td>\n",
       "      <td>1</td>\n",
       "      <td>5</td>\n",
       "      <td>1303862400</td>\n",
       "      <td>Good Quality Dog Food</td>\n",
       "      <td>I have bought several of the Vitality canned d...</td>\n",
       "      <td>0</td>\n",
       "    </tr>\n",
       "    <tr>\n",
       "      <th>1</th>\n",
       "      <td>B00813GRG4</td>\n",
       "      <td>A1D87F6ZCVE5NK</td>\n",
       "      <td>dll pa</td>\n",
       "      <td>0</td>\n",
       "      <td>0</td>\n",
       "      <td>1</td>\n",
       "      <td>1346976000</td>\n",
       "      <td>Not as Advertised</td>\n",
       "      <td>Product arrived labeled as Jumbo Salted Peanut...</td>\n",
       "      <td>1</td>\n",
       "    </tr>\n",
       "    <tr>\n",
       "      <th>2</th>\n",
       "      <td>B000LQOCH0</td>\n",
       "      <td>ABXLMWJIXXAIN</td>\n",
       "      <td>Natalia Corres Natalia Corres</td>\n",
       "      <td>1</td>\n",
       "      <td>1</td>\n",
       "      <td>4</td>\n",
       "      <td>1219017600</td>\n",
       "      <td>Delight says it all</td>\n",
       "      <td>This is a confection that has been around a fe...</td>\n",
       "      <td>2</td>\n",
       "    </tr>\n",
       "    <tr>\n",
       "      <th>3</th>\n",
       "      <td>B000UA0QIQ</td>\n",
       "      <td>A395BORC6FGVXV</td>\n",
       "      <td>Karl</td>\n",
       "      <td>3</td>\n",
       "      <td>3</td>\n",
       "      <td>2</td>\n",
       "      <td>1307923200</td>\n",
       "      <td>Cough Medicine</td>\n",
       "      <td>If you are looking for the secret ingredient i...</td>\n",
       "      <td>3</td>\n",
       "    </tr>\n",
       "    <tr>\n",
       "      <th>4</th>\n",
       "      <td>B006K2ZZ7K</td>\n",
       "      <td>A1UQRSCLF8GW1T</td>\n",
       "      <td>Michael D. Bigham M. Wassir</td>\n",
       "      <td>0</td>\n",
       "      <td>0</td>\n",
       "      <td>5</td>\n",
       "      <td>1350777600</td>\n",
       "      <td>Great taffy</td>\n",
       "      <td>Great taffy at a great price. There was a wide...</td>\n",
       "      <td>4</td>\n",
       "    </tr>\n",
       "  </tbody>\n",
       "</table>\n",
       "</div>"
      ],
      "text/plain": [
       "    ProductId          UserId                     ProfileName  \\\n",
       "0  B001E4KFG0  A3SGXH7AUHU8GW                      delmartian   \n",
       "1  B00813GRG4  A1D87F6ZCVE5NK                          dll pa   \n",
       "2  B000LQOCH0   ABXLMWJIXXAIN   Natalia Corres Natalia Corres   \n",
       "3  B000UA0QIQ  A395BORC6FGVXV                            Karl   \n",
       "4  B006K2ZZ7K  A1UQRSCLF8GW1T     Michael D. Bigham M. Wassir   \n",
       "\n",
       "   HelpfulnessNumerator  HelpfulnessDenominator  Score        Time  \\\n",
       "0                     1                       1      5  1303862400   \n",
       "1                     0                       0      1  1346976000   \n",
       "2                     1                       1      4  1219017600   \n",
       "3                     3                       3      2  1307923200   \n",
       "4                     0                       0      5  1350777600   \n",
       "\n",
       "            ReviewSummary                                         ReviewText  \\\n",
       "0   Good Quality Dog Food  I have bought several of the Vitality canned d...   \n",
       "1       Not as Advertised  Product arrived labeled as Jumbo Salted Peanut...   \n",
       "2     Delight says it all  This is a confection that has been around a fe...   \n",
       "3          Cough Medicine  If you are looking for the secret ingredient i...   \n",
       "4             Great taffy  Great taffy at a great price. There was a wide...   \n",
       "\n",
       "   Id  \n",
       "0   0  \n",
       "1   1  \n",
       "2   2  \n",
       "3   3  \n",
       "4   4  "
      ]
     },
     "execution_count": 29,
     "metadata": {},
     "output_type": "execute_result"
    }
   ],
   "source": []
  },
  {
   "cell_type": "code",
   "execution_count": null,
   "id": "be2994e6",
   "metadata": {},
   "outputs": [],
   "source": []
  }
 ],
 "metadata": {
  "kernelspec": {
   "display_name": "Python 3 (ipykernel)",
   "language": "python",
   "name": "python3"
  },
  "language_info": {
   "codemirror_mode": {
    "name": "ipython",
    "version": 3
   },
   "file_extension": ".py",
   "mimetype": "text/x-python",
   "name": "python",
   "nbconvert_exporter": "python",
   "pygments_lexer": "ipython3",
   "version": "3.9.7"
  }
 },
 "nbformat": 4,
 "nbformat_minor": 5
}
