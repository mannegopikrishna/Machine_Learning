{
 "cells": [
  {
   "cell_type": "code",
   "execution_count": 1,
   "id": "7f0ebf49",
   "metadata": {},
   "outputs": [],
   "source": [
    "import numpy as np\n",
    "import pandas as pd\n",
    "import matplotlib.pyplot as plt\n",
    "import seaborn as sns"
   ]
  },
  {
   "cell_type": "code",
   "execution_count": 2,
   "id": "cfe0d705",
   "metadata": {},
   "outputs": [],
   "source": [
    "import warnings\n",
    "warnings.filterwarnings(\"ignore\")"
   ]
  },
  {
   "cell_type": "code",
   "execution_count": 3,
   "id": "64fbe47e",
   "metadata": {},
   "outputs": [],
   "source": [
    "from PIL import Image\n",
    "from matplotlib import image"
   ]
  },
  {
   "cell_type": "code",
   "execution_count": 4,
   "id": "6b6af8d6",
   "metadata": {},
   "outputs": [],
   "source": [
    "import glob"
   ]
  },
  {
   "cell_type": "code",
   "execution_count": 5,
   "id": "850b6661",
   "metadata": {},
   "outputs": [
    {
     "name": "stdout",
     "output_type": "stream",
     "text": [
      "(0, 4132)\n",
      "(1, 4684)\n",
      "(2, 4177)\n",
      "(3, 4351)\n",
      "(4, 4072)\n",
      "(5, 3795)\n",
      "(6, 4137)\n",
      "(7, 4401)\n",
      "(8, 4063)\n",
      "(9, 4188)\n"
     ]
    }
   ],
   "source": [
    "for i in range(10):\n",
    "    print((i,(len(glob.glob(\"mnist_data/\"+str(i)+\"/*\")))))"
   ]
  },
  {
   "cell_type": "markdown",
   "id": "03606cf8",
   "metadata": {},
   "source": [
    "## Zeros "
   ]
  },
  {
   "cell_type": "code",
   "execution_count": 6,
   "id": "e42b9cb6",
   "metadata": {},
   "outputs": [],
   "source": [
    "flatten_img_0= []\n",
    "for i in range(0,4132):\n",
    "    img = Image.open(r\"C:\\Users\\DELL\\ML\\Assignments\\Image Data\\mnist_data\\0\\img_{}.png\".format(i))\n",
    "    img_0 = img.convert(\"L\")\n",
    "    flatten_img_0.append(np.array(img_0).ravel())"
   ]
  },
  {
   "cell_type": "code",
   "execution_count": 7,
   "id": "b2c91f6c",
   "metadata": {},
   "outputs": [],
   "source": [
    "zeros_img =pd.DataFrame(flatten_img_0)\n",
    "zeros_img[\"lable\"] = 0"
   ]
  },
  {
   "cell_type": "markdown",
   "id": "91eb961a",
   "metadata": {},
   "source": [
    "## One"
   ]
  },
  {
   "cell_type": "code",
   "execution_count": 8,
   "id": "6cf4bfd3",
   "metadata": {},
   "outputs": [],
   "source": [
    "flatten_img_1 = []\n",
    "for i in range(0,4684):\n",
    "    img = Image.open(r\"C:\\Users\\DELL\\ML\\Assignments\\Image Data\\mnist_data\\1\\img_{}.png\".format(i))\n",
    "    img_gray_1 = img.convert(\"L\")\n",
    "    img_arr_1 = np.array(img_gray_1)\n",
    "    flatten_img_1.append(img_arr_1.ravel())\n"
   ]
  },
  {
   "cell_type": "code",
   "execution_count": 9,
   "id": "51795916",
   "metadata": {},
   "outputs": [],
   "source": [
    "ones_img =pd.DataFrame(flatten_img_1)\n",
    "ones_img[\"lable\"] = 1"
   ]
  },
  {
   "cell_type": "markdown",
   "id": "d3bb276f",
   "metadata": {},
   "source": [
    "## Two"
   ]
  },
  {
   "cell_type": "code",
   "execution_count": 10,
   "id": "6fdf5c45",
   "metadata": {},
   "outputs": [],
   "source": [
    "flatten_img_2 = []\n",
    "for i in range(0,4177):\n",
    "    img = Image.open(r\"C:\\Users\\DELL\\ML\\Assignments\\Image Data\\mnist_data\\2\\img_{}.png\".format(i))\n",
    "    img_gray_2 = img.convert(\"L\")\n",
    "    img_arr_2 = np.array(img_gray_2)\n",
    "    flatten_img_2.append(img_arr_2.ravel())\n"
   ]
  },
  {
   "cell_type": "code",
   "execution_count": 11,
   "id": "cfe2e54c",
   "metadata": {},
   "outputs": [],
   "source": [
    "twos_img =pd.DataFrame(flatten_img_2)\n",
    "twos_img[\"lable\"] = 2"
   ]
  },
  {
   "cell_type": "markdown",
   "id": "20157c95",
   "metadata": {},
   "source": [
    "## Three"
   ]
  },
  {
   "cell_type": "code",
   "execution_count": 12,
   "id": "26c62f78",
   "metadata": {},
   "outputs": [],
   "source": [
    "flatten_img_3 = []\n",
    "for i in range(0,4351):\n",
    "    img = Image.open(r\"C:\\Users\\DELL\\ML\\Assignments\\Image Data\\mnist_data\\3\\img_{}.png\".format(i))\n",
    "    img_gray_3 = img.convert(\"L\")\n",
    "    img_arr_3 = np.array(img_gray_3)\n",
    "    flatten_img_3.append(img_arr_3.ravel())\n"
   ]
  },
  {
   "cell_type": "code",
   "execution_count": 13,
   "id": "fd436461",
   "metadata": {},
   "outputs": [],
   "source": [
    "three_img =pd.DataFrame(flatten_img_3)\n",
    "three_img[\"lable\"] = 3"
   ]
  },
  {
   "cell_type": "markdown",
   "id": "6f31d099",
   "metadata": {},
   "source": [
    "## Four"
   ]
  },
  {
   "cell_type": "code",
   "execution_count": 14,
   "id": "ce41841f",
   "metadata": {},
   "outputs": [],
   "source": [
    "flatten_img_4 = []\n",
    "for i in range(0,4072):\n",
    "    img = Image.open(r\"C:\\Users\\DELL\\ML\\Assignments\\Image Data\\mnist_data\\4\\img_{}.png\".format(i))\n",
    "    img_gray_4 = img.convert(\"L\")\n",
    "    img_arr_4 = np.array(img_gray_4)\n",
    "    flatten_img_4.append(img_arr_4.ravel())\n"
   ]
  },
  {
   "cell_type": "code",
   "execution_count": 15,
   "id": "621628a5",
   "metadata": {},
   "outputs": [],
   "source": [
    "four_img =pd.DataFrame(flatten_img_4)\n",
    "four_img[\"lable\"] = 4"
   ]
  },
  {
   "cell_type": "markdown",
   "id": "bdb49611",
   "metadata": {},
   "source": [
    "## Five"
   ]
  },
  {
   "cell_type": "code",
   "execution_count": 16,
   "id": "13aba647",
   "metadata": {},
   "outputs": [],
   "source": [
    "# for i in range(0,3):\n",
    "#     img = Image.open(r\"C:\\Users\\DELL\\ML\\Assignments\\Image Data\\mnist_data\\5\\img_{}.png\".format(i))\n",
    "#     img_8 = img.resize((8,8))\n",
    "#     print(np.array(img_8).flatten())\n",
    "    \n"
   ]
  },
  {
   "cell_type": "code",
   "execution_count": 17,
   "id": "efdbb4ec",
   "metadata": {},
   "outputs": [],
   "source": [
    "flatten_img_5 = []\n",
    "for i in range(0,3795):\n",
    "    img = Image.open(r\"C:\\Users\\DELL\\ML\\Assignments\\Image Data\\mnist_data\\5\\img_{}.png\".format(i))\n",
    "    img_gray_5 = img.convert(\"L\")\n",
    "    img_arr_5 = np.array(img_gray_5)\n",
    "    flatten_img_5.append(img_arr_5.ravel())\n"
   ]
  },
  {
   "cell_type": "code",
   "execution_count": 18,
   "id": "c7e67ba9",
   "metadata": {},
   "outputs": [],
   "source": [
    "five_img =pd.DataFrame(flatten_img_5)\n",
    "five_img[\"lable\"] = 5"
   ]
  },
  {
   "cell_type": "markdown",
   "id": "3eb2393a",
   "metadata": {},
   "source": [
    "## Six"
   ]
  },
  {
   "cell_type": "code",
   "execution_count": 19,
   "id": "194241df",
   "metadata": {},
   "outputs": [],
   "source": [
    "flatten_img_6 = []\n",
    "for i in range(0,4137):\n",
    "    img = Image.open(r\"C:\\Users\\DELL\\ML\\Assignments\\Image Data\\mnist_data\\6\\img_{}.png\".format(i))\n",
    "    img_gray_6 = img.convert(\"L\")\n",
    "    img_arr_6 = np.array(img_gray_6)\n",
    "    flatten_img_6.append(img_arr_6.ravel())\n"
   ]
  },
  {
   "cell_type": "code",
   "execution_count": 20,
   "id": "ec26c9b1",
   "metadata": {},
   "outputs": [],
   "source": [
    "six_img =pd.DataFrame(flatten_img_6)\n",
    "six_img[\"lable\"] = 6"
   ]
  },
  {
   "cell_type": "markdown",
   "id": "07d88f8b",
   "metadata": {},
   "source": [
    "## Seven"
   ]
  },
  {
   "cell_type": "code",
   "execution_count": 21,
   "id": "80cfcd50",
   "metadata": {},
   "outputs": [],
   "source": [
    "flatten_img_7 = []\n",
    "for i in range(0,4401):\n",
    "    img = Image.open(r\"C:\\Users\\DELL\\ML\\Assignments\\Image Data\\mnist_data\\7\\img_{}.png\".format(i))\n",
    "    img_gray_7 = img.convert(\"L\")\n",
    "    img_arr_7 = np.array(img_gray_7)\n",
    "    flatten_img_7.append(img_arr_7.ravel())\n"
   ]
  },
  {
   "cell_type": "code",
   "execution_count": 22,
   "id": "50dd4351",
   "metadata": {},
   "outputs": [],
   "source": [
    "seven_img =pd.DataFrame(flatten_img_7)\n",
    "seven_img[\"lable\"] = 7"
   ]
  },
  {
   "cell_type": "markdown",
   "id": "ab2b4d36",
   "metadata": {},
   "source": [
    "## Eight"
   ]
  },
  {
   "cell_type": "code",
   "execution_count": 23,
   "id": "e7f0a520",
   "metadata": {},
   "outputs": [],
   "source": [
    "flatten_img_8 = []\n",
    "for i in range(0,4063):\n",
    "    img = Image.open(r\"C:\\Users\\DELL\\ML\\Assignments\\Image Data\\mnist_data\\8\\img_{}.png\".format(i))\n",
    "    img_gray_8 = img.convert(\"L\")\n",
    "    img_arr_8 = np.array(img_gray_8)\n",
    "    flatten_img_8.append(img_arr_8.ravel())\n"
   ]
  },
  {
   "cell_type": "code",
   "execution_count": 24,
   "id": "3069f25f",
   "metadata": {},
   "outputs": [],
   "source": [
    "eight_img =pd.DataFrame(flatten_img_8)\n",
    "eight_img[\"lable\"] = 8"
   ]
  },
  {
   "cell_type": "markdown",
   "id": "9975a253",
   "metadata": {},
   "source": [
    "## Nine"
   ]
  },
  {
   "cell_type": "code",
   "execution_count": 25,
   "id": "34f8fc7e",
   "metadata": {},
   "outputs": [],
   "source": [
    "flatten_img_9 = []\n",
    "for i in range(0,4188):\n",
    "    img = Image.open(r\"C:\\Users\\DELL\\ML\\Assignments\\Image Data\\mnist_data\\9\\img_{}.png\".format(i))\n",
    "    img_gray_9 = img.convert(\"L\")\n",
    "    img_arr_9 = np.array(img_gray_9)\n",
    "    flatten_img_9.append(img_arr_9.ravel())\n"
   ]
  },
  {
   "cell_type": "code",
   "execution_count": 26,
   "id": "09019243",
   "metadata": {},
   "outputs": [],
   "source": [
    "nine_img =pd.DataFrame(flatten_img_9)\n",
    "nine_img[\"lable\"] = 9"
   ]
  },
  {
   "cell_type": "code",
   "execution_count": 27,
   "id": "062d2c41",
   "metadata": {},
   "outputs": [],
   "source": [
    "data = pd.concat([zeros_img,ones_img,twos_img,three_img,four_img,five_img,six_img,seven_img,eight_img,nine_img],axis=0)"
   ]
  },
  {
   "cell_type": "code",
   "execution_count": 28,
   "id": "57d923ac",
   "metadata": {},
   "outputs": [
    {
     "data": {
      "text/html": [
       "<div>\n",
       "<style scoped>\n",
       "    .dataframe tbody tr th:only-of-type {\n",
       "        vertical-align: middle;\n",
       "    }\n",
       "\n",
       "    .dataframe tbody tr th {\n",
       "        vertical-align: top;\n",
       "    }\n",
       "\n",
       "    .dataframe thead th {\n",
       "        text-align: right;\n",
       "    }\n",
       "</style>\n",
       "<table border=\"1\" class=\"dataframe\">\n",
       "  <thead>\n",
       "    <tr style=\"text-align: right;\">\n",
       "      <th></th>\n",
       "      <th>0</th>\n",
       "      <th>1</th>\n",
       "      <th>2</th>\n",
       "      <th>3</th>\n",
       "      <th>4</th>\n",
       "      <th>5</th>\n",
       "      <th>6</th>\n",
       "      <th>7</th>\n",
       "      <th>8</th>\n",
       "      <th>9</th>\n",
       "      <th>...</th>\n",
       "      <th>775</th>\n",
       "      <th>776</th>\n",
       "      <th>777</th>\n",
       "      <th>778</th>\n",
       "      <th>779</th>\n",
       "      <th>780</th>\n",
       "      <th>781</th>\n",
       "      <th>782</th>\n",
       "      <th>783</th>\n",
       "      <th>lable</th>\n",
       "    </tr>\n",
       "  </thead>\n",
       "  <tbody>\n",
       "    <tr>\n",
       "      <th>0</th>\n",
       "      <td>30</td>\n",
       "      <td>30</td>\n",
       "      <td>30</td>\n",
       "      <td>30</td>\n",
       "      <td>30</td>\n",
       "      <td>30</td>\n",
       "      <td>30</td>\n",
       "      <td>30</td>\n",
       "      <td>30</td>\n",
       "      <td>30</td>\n",
       "      <td>...</td>\n",
       "      <td>30</td>\n",
       "      <td>30</td>\n",
       "      <td>30</td>\n",
       "      <td>30</td>\n",
       "      <td>30</td>\n",
       "      <td>30</td>\n",
       "      <td>30</td>\n",
       "      <td>30</td>\n",
       "      <td>30</td>\n",
       "      <td>0</td>\n",
       "    </tr>\n",
       "    <tr>\n",
       "      <th>1</th>\n",
       "      <td>30</td>\n",
       "      <td>30</td>\n",
       "      <td>30</td>\n",
       "      <td>30</td>\n",
       "      <td>30</td>\n",
       "      <td>30</td>\n",
       "      <td>30</td>\n",
       "      <td>30</td>\n",
       "      <td>30</td>\n",
       "      <td>30</td>\n",
       "      <td>...</td>\n",
       "      <td>30</td>\n",
       "      <td>30</td>\n",
       "      <td>30</td>\n",
       "      <td>30</td>\n",
       "      <td>30</td>\n",
       "      <td>30</td>\n",
       "      <td>30</td>\n",
       "      <td>30</td>\n",
       "      <td>30</td>\n",
       "      <td>0</td>\n",
       "    </tr>\n",
       "    <tr>\n",
       "      <th>2</th>\n",
       "      <td>30</td>\n",
       "      <td>30</td>\n",
       "      <td>30</td>\n",
       "      <td>30</td>\n",
       "      <td>30</td>\n",
       "      <td>30</td>\n",
       "      <td>30</td>\n",
       "      <td>30</td>\n",
       "      <td>30</td>\n",
       "      <td>30</td>\n",
       "      <td>...</td>\n",
       "      <td>30</td>\n",
       "      <td>30</td>\n",
       "      <td>30</td>\n",
       "      <td>30</td>\n",
       "      <td>30</td>\n",
       "      <td>30</td>\n",
       "      <td>30</td>\n",
       "      <td>30</td>\n",
       "      <td>30</td>\n",
       "      <td>0</td>\n",
       "    </tr>\n",
       "    <tr>\n",
       "      <th>3</th>\n",
       "      <td>30</td>\n",
       "      <td>30</td>\n",
       "      <td>30</td>\n",
       "      <td>30</td>\n",
       "      <td>30</td>\n",
       "      <td>30</td>\n",
       "      <td>30</td>\n",
       "      <td>30</td>\n",
       "      <td>30</td>\n",
       "      <td>30</td>\n",
       "      <td>...</td>\n",
       "      <td>30</td>\n",
       "      <td>30</td>\n",
       "      <td>30</td>\n",
       "      <td>30</td>\n",
       "      <td>30</td>\n",
       "      <td>30</td>\n",
       "      <td>30</td>\n",
       "      <td>30</td>\n",
       "      <td>30</td>\n",
       "      <td>0</td>\n",
       "    </tr>\n",
       "    <tr>\n",
       "      <th>4</th>\n",
       "      <td>30</td>\n",
       "      <td>30</td>\n",
       "      <td>30</td>\n",
       "      <td>30</td>\n",
       "      <td>30</td>\n",
       "      <td>30</td>\n",
       "      <td>30</td>\n",
       "      <td>30</td>\n",
       "      <td>30</td>\n",
       "      <td>30</td>\n",
       "      <td>...</td>\n",
       "      <td>30</td>\n",
       "      <td>30</td>\n",
       "      <td>30</td>\n",
       "      <td>30</td>\n",
       "      <td>30</td>\n",
       "      <td>30</td>\n",
       "      <td>30</td>\n",
       "      <td>30</td>\n",
       "      <td>30</td>\n",
       "      <td>0</td>\n",
       "    </tr>\n",
       "    <tr>\n",
       "      <th>...</th>\n",
       "      <td>...</td>\n",
       "      <td>...</td>\n",
       "      <td>...</td>\n",
       "      <td>...</td>\n",
       "      <td>...</td>\n",
       "      <td>...</td>\n",
       "      <td>...</td>\n",
       "      <td>...</td>\n",
       "      <td>...</td>\n",
       "      <td>...</td>\n",
       "      <td>...</td>\n",
       "      <td>...</td>\n",
       "      <td>...</td>\n",
       "      <td>...</td>\n",
       "      <td>...</td>\n",
       "      <td>...</td>\n",
       "      <td>...</td>\n",
       "      <td>...</td>\n",
       "      <td>...</td>\n",
       "      <td>...</td>\n",
       "      <td>...</td>\n",
       "    </tr>\n",
       "    <tr>\n",
       "      <th>4183</th>\n",
       "      <td>30</td>\n",
       "      <td>30</td>\n",
       "      <td>30</td>\n",
       "      <td>30</td>\n",
       "      <td>30</td>\n",
       "      <td>30</td>\n",
       "      <td>30</td>\n",
       "      <td>30</td>\n",
       "      <td>30</td>\n",
       "      <td>30</td>\n",
       "      <td>...</td>\n",
       "      <td>30</td>\n",
       "      <td>30</td>\n",
       "      <td>30</td>\n",
       "      <td>30</td>\n",
       "      <td>30</td>\n",
       "      <td>30</td>\n",
       "      <td>30</td>\n",
       "      <td>30</td>\n",
       "      <td>30</td>\n",
       "      <td>9</td>\n",
       "    </tr>\n",
       "    <tr>\n",
       "      <th>4184</th>\n",
       "      <td>30</td>\n",
       "      <td>30</td>\n",
       "      <td>30</td>\n",
       "      <td>30</td>\n",
       "      <td>30</td>\n",
       "      <td>30</td>\n",
       "      <td>30</td>\n",
       "      <td>30</td>\n",
       "      <td>30</td>\n",
       "      <td>30</td>\n",
       "      <td>...</td>\n",
       "      <td>30</td>\n",
       "      <td>30</td>\n",
       "      <td>30</td>\n",
       "      <td>30</td>\n",
       "      <td>30</td>\n",
       "      <td>30</td>\n",
       "      <td>30</td>\n",
       "      <td>30</td>\n",
       "      <td>30</td>\n",
       "      <td>9</td>\n",
       "    </tr>\n",
       "    <tr>\n",
       "      <th>4185</th>\n",
       "      <td>30</td>\n",
       "      <td>30</td>\n",
       "      <td>30</td>\n",
       "      <td>30</td>\n",
       "      <td>30</td>\n",
       "      <td>30</td>\n",
       "      <td>30</td>\n",
       "      <td>30</td>\n",
       "      <td>30</td>\n",
       "      <td>30</td>\n",
       "      <td>...</td>\n",
       "      <td>30</td>\n",
       "      <td>30</td>\n",
       "      <td>30</td>\n",
       "      <td>30</td>\n",
       "      <td>30</td>\n",
       "      <td>30</td>\n",
       "      <td>30</td>\n",
       "      <td>30</td>\n",
       "      <td>30</td>\n",
       "      <td>9</td>\n",
       "    </tr>\n",
       "    <tr>\n",
       "      <th>4186</th>\n",
       "      <td>30</td>\n",
       "      <td>30</td>\n",
       "      <td>30</td>\n",
       "      <td>30</td>\n",
       "      <td>30</td>\n",
       "      <td>30</td>\n",
       "      <td>30</td>\n",
       "      <td>30</td>\n",
       "      <td>30</td>\n",
       "      <td>30</td>\n",
       "      <td>...</td>\n",
       "      <td>30</td>\n",
       "      <td>30</td>\n",
       "      <td>30</td>\n",
       "      <td>30</td>\n",
       "      <td>30</td>\n",
       "      <td>30</td>\n",
       "      <td>30</td>\n",
       "      <td>30</td>\n",
       "      <td>30</td>\n",
       "      <td>9</td>\n",
       "    </tr>\n",
       "    <tr>\n",
       "      <th>4187</th>\n",
       "      <td>30</td>\n",
       "      <td>30</td>\n",
       "      <td>30</td>\n",
       "      <td>30</td>\n",
       "      <td>30</td>\n",
       "      <td>30</td>\n",
       "      <td>30</td>\n",
       "      <td>30</td>\n",
       "      <td>30</td>\n",
       "      <td>30</td>\n",
       "      <td>...</td>\n",
       "      <td>30</td>\n",
       "      <td>30</td>\n",
       "      <td>30</td>\n",
       "      <td>30</td>\n",
       "      <td>30</td>\n",
       "      <td>30</td>\n",
       "      <td>30</td>\n",
       "      <td>30</td>\n",
       "      <td>30</td>\n",
       "      <td>9</td>\n",
       "    </tr>\n",
       "  </tbody>\n",
       "</table>\n",
       "<p>42000 rows × 785 columns</p>\n",
       "</div>"
      ],
      "text/plain": [
       "       0   1   2   3   4   5   6   7   8   9  ...  775  776  777  778  779  \\\n",
       "0     30  30  30  30  30  30  30  30  30  30  ...   30   30   30   30   30   \n",
       "1     30  30  30  30  30  30  30  30  30  30  ...   30   30   30   30   30   \n",
       "2     30  30  30  30  30  30  30  30  30  30  ...   30   30   30   30   30   \n",
       "3     30  30  30  30  30  30  30  30  30  30  ...   30   30   30   30   30   \n",
       "4     30  30  30  30  30  30  30  30  30  30  ...   30   30   30   30   30   \n",
       "...   ..  ..  ..  ..  ..  ..  ..  ..  ..  ..  ...  ...  ...  ...  ...  ...   \n",
       "4183  30  30  30  30  30  30  30  30  30  30  ...   30   30   30   30   30   \n",
       "4184  30  30  30  30  30  30  30  30  30  30  ...   30   30   30   30   30   \n",
       "4185  30  30  30  30  30  30  30  30  30  30  ...   30   30   30   30   30   \n",
       "4186  30  30  30  30  30  30  30  30  30  30  ...   30   30   30   30   30   \n",
       "4187  30  30  30  30  30  30  30  30  30  30  ...   30   30   30   30   30   \n",
       "\n",
       "      780  781  782  783  lable  \n",
       "0      30   30   30   30      0  \n",
       "1      30   30   30   30      0  \n",
       "2      30   30   30   30      0  \n",
       "3      30   30   30   30      0  \n",
       "4      30   30   30   30      0  \n",
       "...   ...  ...  ...  ...    ...  \n",
       "4183   30   30   30   30      9  \n",
       "4184   30   30   30   30      9  \n",
       "4185   30   30   30   30      9  \n",
       "4186   30   30   30   30      9  \n",
       "4187   30   30   30   30      9  \n",
       "\n",
       "[42000 rows x 785 columns]"
      ]
     },
     "execution_count": 28,
     "metadata": {},
     "output_type": "execute_result"
    }
   ],
   "source": [
    "data"
   ]
  },
  {
   "cell_type": "markdown",
   "id": "c22b822a",
   "metadata": {},
   "source": [
    "### Move to CSV file"
   ]
  },
  {
   "cell_type": "code",
   "execution_count": 50,
   "id": "522d8cbe",
   "metadata": {},
   "outputs": [],
   "source": [
    "data.to_csv(\"Digits_1.csv\",index=False)"
   ]
  },
  {
   "cell_type": "markdown",
   "id": "10258da7",
   "metadata": {},
   "source": [
    "## Read CSv file"
   ]
  },
  {
   "cell_type": "code",
   "execution_count": 51,
   "id": "e3fa7dcc",
   "metadata": {},
   "outputs": [],
   "source": [
    "data = pd.read_csv(\"Digits_1.csv\")"
   ]
  }
 ],
 "metadata": {
  "kernelspec": {
   "display_name": "Python 3 (ipykernel)",
   "language": "python",
   "name": "python3"
  },
  "language_info": {
   "codemirror_mode": {
    "name": "ipython",
    "version": 3
   },
   "file_extension": ".py",
   "mimetype": "text/x-python",
   "name": "python",
   "nbconvert_exporter": "python",
   "pygments_lexer": "ipython3",
   "version": "3.9.7"
  }
 },
 "nbformat": 4,
 "nbformat_minor": 5
}
